{
 "cells": [
  {
   "cell_type": "markdown",
   "id": "a3b126b0",
   "metadata": {},
   "source": [
    "# Python - Basic Assignment #2"
   ]
  },
  {
   "cell_type": "markdown",
   "id": "43e19320",
   "metadata": {},
   "source": [
    "1. What are the two values of the Boolean data type? How do you write them?\n",
    "\n",
    "The two valuesof the Boolean data type are True and False. We write them respectively with capita T and capital F\n"
   ]
  },
  {
   "cell_type": "markdown",
   "id": "1b15b8b0",
   "metadata": {},
   "source": [
    "2. What are the three different types of Boolean operators?\n",
    "The three different Boolean operators are AND, OR, and NOT."
   ]
  },
  {
   "cell_type": "markdown",
   "id": "328027bc",
   "metadata": {},
   "source": [
    "3. Make a list of each Boolean operator's truth tables (i.e. every possible combination of Boolean values for the operator and what it evaluate ).\n",
    "\n",
    " TRUE AND TRUE   = TRUE\n",
    " TRUE OR TRUE    = TRUE\n",
    " TRUE AND FALSE  = FALSE\n",
    " TRUE OR FALSE   = TRUE\n",
    " FALSE AND FALSE = FALSE\n",
    " FALSE OR FALSE  = FALSE\n",
    " NOT TRUE        = FALSE\n",
    " NOT FALSE       = TRUE"
   ]
  },
  {
   "cell_type": "markdown",
   "id": "299bf5f2",
   "metadata": {},
   "source": [
    "4. What are the values of the following expressions?\n",
    "\n",
    "(5 > 4) and (3 == 5) = (True) and (False) = False\n",
    "not (5 > 4) = not (True) = False\n",
    "(5 > 4) or (3 == 5) = (True) or (False) = True\n",
    "not ((5 > 4) or (3 == 5)) = not ((True) or (False)) = not(True) = False\n",
    "(True and True) and (True == False) = (True) and (False) = False\n",
    "(not False) or (not True) = (True) or (False) = True\n"
   ]
  },
  {
   "cell_type": "markdown",
   "id": "c433c5fa",
   "metadata": {},
   "source": [
    "5. What are the six comparison operators?\n",
    "\n",
    "The six comparision operators are:\n",
    "> \n",
    ">=\n",
    "<\n",
    "<=\n",
    "==\n",
    "!="
   ]
  },
  {
   "cell_type": "markdown",
   "id": "a7391c92",
   "metadata": {},
   "source": [
    "6. How do you tell the difference between the equal to and assignment operators?Describe a condition and when you would use one.\n",
    "\n",
    "== (equal to) is a comparision operator while = (equal) is an assignment operator. The first compares two or more values while the latter is used to assign a variable that points to an object in Python."
   ]
  },
  {
   "cell_type": "code",
   "execution_count": 5,
   "id": "9b76a1d2",
   "metadata": {},
   "outputs": [
    {
     "name": "stdout",
     "output_type": "stream",
     "text": [
      "ham\n",
      "spam\n",
      "spam\n"
     ]
    }
   ],
   "source": [
    "# 7. Identify the three blocks in this code:\n",
    "spam = 0\n",
    "if spam == 10: # Block # 1\n",
    "    print('eggs')\n",
    "\n",
    "if spam > 5: # Block # 2\n",
    "    print('bacon')\n",
    "else: # Block # 3\n",
    "    print('ham')\n",
    "    print('spam')\n",
    "    print('spam')"
   ]
  },
  {
   "cell_type": "code",
   "execution_count": 2,
   "id": "414b0480",
   "metadata": {},
   "outputs": [
    {
     "name": "stdout",
     "output_type": "stream",
     "text": [
      "Greetings\n"
     ]
    }
   ],
   "source": [
    "# 8. Write code that prints Hello if 1 is stored in spam, prints Howdy if 2 is stored in spam, and prints Greetings! if anything else is stored in spam.\n",
    "if spam == 1:\n",
    "    print('Hello')\n",
    "elif spam == 2:\n",
    "    print('Howdy')\n",
    "else:\n",
    "    print('Greetings')"
   ]
  },
  {
   "cell_type": "markdown",
   "id": "dd54fc21",
   "metadata": {},
   "source": [
    "9. If your programme is stuck in an endless loop, what keys you’ll press?\n",
    "\n",
    "Ctrl + c\n"
   ]
  },
  {
   "cell_type": "markdown",
   "id": "7902a96c",
   "metadata": {},
   "source": [
    "10. How can you tell the difference between break and continue?\n",
    "\n",
    "Break will stop the loop\n",
    "Continue will stop the current iteration and continue to the next.\n"
   ]
  },
  {
   "cell_type": "markdown",
   "id": "b9a54fb4",
   "metadata": {},
   "source": [
    "11. In a for loop, what is the difference between range(10), range(0, 10), and range(0, 10, 1)?\n",
    "\n",
    "There is no difference\n",
    "A loop in a range starts by default at 0 with a step of 1 by default. If only one number is given, 0 and 1 are respectively used\n",
    "by default for start and step and the loop will print 0 up to but not including the number given. If only two numbers are provided, the first one is the start, the last one is the end (not included) and 1 is the step by default.\n",
    "\n"
   ]
  },
  {
   "cell_type": "code",
   "execution_count": 4,
   "id": "b42a675d",
   "metadata": {},
   "outputs": [
    {
     "name": "stdout",
     "output_type": "stream",
     "text": [
      "1\n",
      "2\n",
      "3\n",
      "4\n",
      "5\n",
      "6\n",
      "7\n",
      "8\n",
      "9\n",
      "10\n",
      "----------------\n",
      "1\n",
      "2\n",
      "3\n",
      "4\n",
      "5\n",
      "6\n",
      "7\n",
      "8\n",
      "9\n",
      "10\n"
     ]
    }
   ],
   "source": [
    "# 12. Write a short program that prints the numbers 1 to 10 using a for loop. Then write an equivalent program that prints the numbers 1 to 10 using a while loop.\n",
    "for i in range(1,11):\n",
    "    print(i)\n",
    "\n",
    "print('----------------')\n",
    "\n",
    "count = 1\n",
    "while count <= 10:\n",
    "    print(count)\n",
    "    count += 1"
   ]
  },
  {
   "cell_type": "markdown",
   "id": "fa3439ba",
   "metadata": {},
   "source": [
    "13. If you had a function named bacon() inside a module named spam, how would you call it after importing spam?\n",
    "\n",
    "spam.bacon()\n"
   ]
  },
  {
   "cell_type": "code",
   "execution_count": null,
   "id": "65096b97",
   "metadata": {},
   "outputs": [],
   "source": []
  }
 ],
 "metadata": {
  "kernelspec": {
   "display_name": "Python 3 (ipykernel)",
   "language": "python",
   "name": "python3"
  },
  "language_info": {
   "codemirror_mode": {
    "name": "ipython",
    "version": 3
   },
   "file_extension": ".py",
   "mimetype": "text/x-python",
   "name": "python",
   "nbconvert_exporter": "python",
   "pygments_lexer": "ipython3",
   "version": "3.8.5"
  }
 },
 "nbformat": 4,
 "nbformat_minor": 5
}
