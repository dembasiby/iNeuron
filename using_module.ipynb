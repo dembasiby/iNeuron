{
 "cells": [
  {
   "cell_type": "code",
   "execution_count": 1,
   "id": "046fbfad",
   "metadata": {},
   "outputs": [],
   "source": [
    "import csv\n",
    "import pandas as pd\n",
    "from tfileparser import FileParser # import our custom module\n",
    "import sqlite3"
   ]
  },
  {
   "cell_type": "code",
   "execution_count": 2,
   "id": "714dfff1",
   "metadata": {},
   "outputs": [],
   "source": [
    "# CLEAN AND COMBINE THE LISTS OF THE FIVE FILES INTO A LIST OF TUPLES (WORD, WORDCOUNT)\n",
    "mylist = FileParser.files_to_tuplelist(\n",
    "    'vocab.nytimes.txt', \n",
    "    'vocab.nips.txt', \n",
    "    'vocab.kos.txt',\n",
    "    'vocab.enron.txt',\n",
    "    'vocab.pubmed.txt'\n",
    ")"
   ]
  },
  {
   "cell_type": "code",
   "execution_count": 4,
   "id": "3549b9d1",
   "metadata": {},
   "outputs": [
    {
     "data": {
      "text/html": [
       "<div>\n",
       "<style scoped>\n",
       "    .dataframe tbody tr th:only-of-type {\n",
       "        vertical-align: middle;\n",
       "    }\n",
       "\n",
       "    .dataframe tbody tr th {\n",
       "        vertical-align: top;\n",
       "    }\n",
       "\n",
       "    .dataframe thead th {\n",
       "        text-align: right;\n",
       "    }\n",
       "</style>\n",
       "<table border=\"1\" class=\"dataframe\">\n",
       "  <thead>\n",
       "    <tr style=\"text-align: right;\">\n",
       "      <th></th>\n",
       "      <th>0</th>\n",
       "      <th>1</th>\n",
       "    </tr>\n",
       "  </thead>\n",
       "  <tbody>\n",
       "    <tr>\n",
       "      <th>0</th>\n",
       "      <td>aah</td>\n",
       "      <td>2</td>\n",
       "    </tr>\n",
       "    <tr>\n",
       "      <th>1</th>\n",
       "      <td>aahed</td>\n",
       "      <td>1</td>\n",
       "    </tr>\n",
       "    <tr>\n",
       "      <th>2</th>\n",
       "      <td>aaron</td>\n",
       "      <td>2</td>\n",
       "    </tr>\n",
       "    <tr>\n",
       "      <th>3</th>\n",
       "      <td>aback</td>\n",
       "      <td>1</td>\n",
       "    </tr>\n",
       "    <tr>\n",
       "      <th>4</th>\n",
       "      <td>abacus</td>\n",
       "      <td>2</td>\n",
       "    </tr>\n",
       "    <tr>\n",
       "      <th>...</th>\n",
       "      <td>...</td>\n",
       "      <td>...</td>\n",
       "    </tr>\n",
       "    <tr>\n",
       "      <th>207412</th>\n",
       "      <td>zymosantreated</td>\n",
       "      <td>1</td>\n",
       "    </tr>\n",
       "    <tr>\n",
       "      <th>207413</th>\n",
       "      <td>zymosterol</td>\n",
       "      <td>1</td>\n",
       "    </tr>\n",
       "    <tr>\n",
       "      <th>207414</th>\n",
       "      <td>zymv</td>\n",
       "      <td>1</td>\n",
       "    </tr>\n",
       "    <tr>\n",
       "      <th>207415</th>\n",
       "      <td>zyxin</td>\n",
       "      <td>1</td>\n",
       "    </tr>\n",
       "    <tr>\n",
       "      <th>207416</th>\n",
       "      <td>zz</td>\n",
       "      <td>1</td>\n",
       "    </tr>\n",
       "  </tbody>\n",
       "</table>\n",
       "<p>207417 rows × 2 columns</p>\n",
       "</div>"
      ],
      "text/plain": [
       "                     0  1\n",
       "0                  aah  2\n",
       "1                aahed  1\n",
       "2                aaron  2\n",
       "3                aback  1\n",
       "4               abacus  2\n",
       "...                ... ..\n",
       "207412  zymosantreated  1\n",
       "207413      zymosterol  1\n",
       "207414            zymv  1\n",
       "207415           zyxin  1\n",
       "207416              zz  1\n",
       "\n",
       "[207417 rows x 2 columns]"
      ]
     },
     "execution_count": 4,
     "metadata": {},
     "output_type": "execute_result"
    }
   ],
   "source": [
    "pd.DataFrame(mylist)"
   ]
  },
  {
   "cell_type": "code",
   "execution_count": 5,
   "id": "c3b7427f",
   "metadata": {},
   "outputs": [],
   "source": [
    "db = sqlite3.connect('dicodb.db')"
   ]
  },
  {
   "cell_type": "code",
   "execution_count": 8,
   "id": "aa3a7c81",
   "metadata": {},
   "outputs": [],
   "source": [
    "# CREATE A NEW TABLE\n",
    "c = db.cursor()\n",
    "c.execute('CREATE TABLE wordstab (words text, wordcount integer)')\n",
    "db.commit()"
   ]
  },
  {
   "cell_type": "code",
   "execution_count": 9,
   "id": "9a7356dd",
   "metadata": {},
   "outputs": [],
   "source": [
    "# SAVE THE content of the merged files list to sqlite database\n",
    "FileParser.save_to_db(db,'wordstab', mylist)"
   ]
  },
  {
   "cell_type": "code",
   "execution_count": 11,
   "id": "e1f0b5e3",
   "metadata": {},
   "outputs": [
    {
     "data": {
      "text/plain": [
       "[('e', 1),\n",
       " ('s', 1),\n",
       " ('x', 1),\n",
       " ('v', 1),\n",
       " ('m', 1),\n",
       " ('b', 1),\n",
       " ('a', 1),\n",
       " ('c', 1),\n",
       " ('.', 2),\n",
       " ('i', 1),\n",
       " ('t', 3),\n",
       " ('o', 1),\n",
       " ('y', 1),\n",
       " ('n', 1)]"
      ]
     },
     "execution_count": 11,
     "metadata": {},
     "output_type": "execute_result"
    }
   ],
   "source": [
    "# LIST OF TUPLES CONTAINING LETTERS AND THE NUMBER OF WORDS STARTING WITH \n",
    "# THAT LETTER.\n",
    "FileParser.word_group_counter('vocab.nytimes.txt')"
   ]
  },
  {
   "cell_type": "code",
   "execution_count": 2,
   "id": "196459ac",
   "metadata": {},
   "outputs": [],
   "source": []
  },
  {
   "cell_type": "code",
   "execution_count": null,
   "id": "536c9faf",
   "metadata": {},
   "outputs": [],
   "source": []
  }
 ],
 "metadata": {
  "kernelspec": {
   "display_name": "Python 3 (ipykernel)",
   "language": "python",
   "name": "python3"
  },
  "language_info": {
   "codemirror_mode": {
    "name": "ipython",
    "version": 3
   },
   "file_extension": ".py",
   "mimetype": "text/x-python",
   "name": "python",
   "nbconvert_exporter": "python",
   "pygments_lexer": "ipython3",
   "version": "3.8.5"
  }
 },
 "nbformat": 4,
 "nbformat_minor": 5
}
