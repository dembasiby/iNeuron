{
 "cells": [
  {
   "cell_type": "markdown",
   "id": "4f772e48",
   "metadata": {},
   "source": [
    "\n",
    "\n"
   ]
  },
  {
   "cell_type": "markdown",
   "id": "7336de34",
   "metadata": {},
   "source": [
    "##### 1. What exactly is []?\n",
    "\n",
    "```[]``` is an empty list. It can be used to initialize a new list. \n",
    "\n",
    "For example, ```a = []``` creates a new empty list referenced by the variable name ```a```."
   ]
  },
  {
   "cell_type": "code",
   "execution_count": 16,
   "id": "92fb8f45",
   "metadata": {},
   "outputs": [],
   "source": [
    "# 2. In a list of values stored in a variable called spam, how would you assign \n",
    "# the value 'hello' as the third value? (Assume [2, 4, 6, 8, 10] are in spam.)\n",
    "\n",
    "spam = [2,4,6,8,10]\n",
    "# We can use the insert method.\n",
    "spam.insert(2,'hello')"
   ]
  },
  {
   "cell_type": "code",
   "execution_count": 24,
   "id": "cc1c2b05",
   "metadata": {},
   "outputs": [
    {
     "data": {
      "text/plain": [
       "True"
      ]
     },
     "execution_count": 24,
     "metadata": {},
     "output_type": "execute_result"
    }
   ],
   "source": [
    "#Let's pretend the spam includes the list ['a', 'b', 'c', 'd'] for the next three queries.\n",
    "# 3. What is the value of spam[int(int('3' * 2) / 11)]?\n",
    "\n",
    "spam = ['a', 'b', 'c', 'd']\n",
    "spam[int(int('3' * 2) / 11)] == \\\n",
    "spam[int(int('33') / 11)]    == \\\n",
    "spam[int(33 / 11)]           == \\\n",
    "spam[int(3.0)]               == \\\n",
    "spam[3]                      == 'd'"
   ]
  },
  {
   "cell_type": "code",
   "execution_count": 5,
   "id": "2531b8e9",
   "metadata": {},
   "outputs": [
    {
     "data": {
      "text/plain": [
       "False"
      ]
     },
     "execution_count": 5,
     "metadata": {},
     "output_type": "execute_result"
    }
   ],
   "source": [
    "# 4. What is the value of spam[-1]?\n",
    "\n",
    "spam[-1] == 'd'"
   ]
  },
  {
   "cell_type": "code",
   "execution_count": 6,
   "id": "5a3f3ede",
   "metadata": {},
   "outputs": [
    {
     "data": {
      "text/plain": [
       "False"
      ]
     },
     "execution_count": 6,
     "metadata": {},
     "output_type": "execute_result"
    }
   ],
   "source": [
    "# 5. What is the value of spam[:2]?\n",
    "\n",
    "spam[:2] == ['a','b']"
   ]
  },
  {
   "cell_type": "code",
   "execution_count": 25,
   "id": "c6595ff0",
   "metadata": {},
   "outputs": [
    {
     "data": {
      "text/plain": [
       "True"
      ]
     },
     "execution_count": 25,
     "metadata": {},
     "output_type": "execute_result"
    }
   ],
   "source": [
    "# Let's pretend bacon has the list [3.14, 'cat,' 11, 'cat,' True] for the next three questions.\n",
    "\n",
    "# 6. What is the value of bacon.index('cat')?\n",
    "\n",
    "bacon = [3.14, 'cat', 11, 'cat', True]\n",
    "bacon.index('cat') == 1 # The index method return the first occurence"
   ]
  },
  {
   "cell_type": "markdown",
   "id": "f519f7ef",
   "metadata": {},
   "source": [
    "##### 7. How does bacon.append(99) change the look of the list value in bacon?\n",
    "\n",
    "This insert the value 99 to the list at the last index and increase the length of the list by one."
   ]
  },
  {
   "cell_type": "markdown",
   "id": "34d25f65",
   "metadata": {},
   "source": [
    "##### 8. How does bacon.remove('cat') change the look of the list in bacon?\n",
    " It removes the first occurence of 'cat' at index 1. By doing so, the list's length is reduced by 1 and the value 11 is now at index 1."
   ]
  },
  {
   "cell_type": "markdown",
   "id": "bbf103c7",
   "metadata": {},
   "source": [
    "##### 9. What are the list concatenation and list replication operators?\n",
    "\n",
    "* List concatenation is a technique consisting of joining two lists with the ```+``` operator. We can also extend a list with another one by using ```+=``` operator.\n",
    "\n",
    "* List replication consist of duplicating the content of a list with the ```*``` operator. For example, with a list \n",
    "```python\n",
    "a = [1, 2, 3]\n",
    "```\n",
    "we can duplicate the content of ```a``` say twice with ```a*2```. The return value can be assigned to a new variable. We can also do an in-place replication with ```*=```. In this case, we will just update the content of a with \n",
    "```python\n",
    "a *= 2 \n",
    "```\n",
    "which will become:\n",
    "```python \n",
    "[1, 2, 3, 1, 2, 3]\n",
    "```"
   ]
  },
  {
   "cell_type": "code",
   "execution_count": 10,
   "id": "ed146f00",
   "metadata": {},
   "outputs": [
    {
     "name": "stdout",
     "output_type": "stream",
     "text": [
      "[1, 2, 3, 4]\n",
      "[1, 2, 3, 4]\n"
     ]
    }
   ],
   "source": [
    "# 10. What is difference between the list methods append() and insert()?\n",
    "# - append() add a new element at the end of the list. \n",
    "# - insert() can add a new element at any position of the list\n",
    "# - append() takes one required argument, the element to be inserted\n",
    "# - insert() takes two required arguments, the index before which the element will be inserted, and the element to be inserted and \n",
    "#Let's suppose we have a list \n",
    "a = [1, 2, 3]\n",
    "# a.insert(len(a), 4) will have the same result as a.append(4)\n",
    "a.insert(len(a), 4)\n",
    "print(a)\n",
    "# We reset a\n",
    "a = [1, 2, 3]\n",
    "a.append(4)\n",
    "print(a)"
   ]
  },
  {
   "cell_type": "markdown",
   "id": "86b589ea",
   "metadata": {},
   "source": [
    "##### 11. What are the two methods for removing items from a list?\n",
    "\n",
    "We can use ```pop()``` or ```remove()```. \n",
    "\n",
    "```pop()``` removes an element at a certain index. The **default index** is ```-1```, e.g. the last element in the list. So, ```pop()``` has a default value of ```-1```. However, we can choose to remove any element in the list with pop() by providing the index of that element. With a list \n",
    "```python\n",
    "a = [1, 2, 3, 4, 5]\n",
    "```\n",
    "Calling ```a.pop()``` will remove the last element, here 5. We can also remove, say the value 3 by calling ```a.pop(2)```. \n",
    "\n",
    "```remove()``` takes **one required argument** that is the value we want to remove from a list. calling ```a.remove(3)``` will remove the value ```3``` from the list ```a```. If we have several elements with the same value, it will remove the first occurence."
   ]
  },
  {
   "cell_type": "markdown",
   "id": "862eb6bb",
   "metadata": {},
   "source": [
    "#### 12. Describe how list values and string values are identical.\n",
    "\n",
    "* string and list values are all iterable, meaning we can traverse a list and string and return its members one by one. We can use them with loops (for or while loops).\n",
    "* string and list values have indexes, starting at 0.\n",
    "* we can slice a string and a list, meaning, return or show a portion of them. \n"
   ]
  },
  {
   "cell_type": "markdown",
   "id": "aecad926",
   "metadata": {},
   "source": [
    "#### 13. What's the difference between tuples and lists?\n",
    "\n",
    "* A list is a mutable sequence type, a tuple is immutable. \n",
    "* We can add new element to a list. We can not do the same for a tuple\n",
    "* A tuple object has two public methods ('count' and 'index'), a list has a dozen\n",
    "\n"
   ]
  },
  {
   "cell_type": "code",
   "execution_count": 12,
   "id": "80e23b8e",
   "metadata": {},
   "outputs": [
    {
     "name": "stdout",
     "output_type": "stream",
     "text": [
      "<class 'tuple'>\n",
      "<class 'tuple'>\n"
     ]
    }
   ],
   "source": [
    "# 14. How do you type a tuple value that only contains the integer 42?\n",
    "# We use the commas to differenciate int 42 from tuple 42,\n",
    "a = 42,\n",
    "b = (42,)\n",
    "print(type(a))\n",
    "print(type(b))"
   ]
  },
  {
   "cell_type": "code",
   "execution_count": 13,
   "id": "9a00035a",
   "metadata": {},
   "outputs": [
    {
     "name": "stdout",
     "output_type": "stream",
     "text": [
      "(1, 2, 3, 4, 5)\n",
      "[1, 2, 3, 4, 5]\n"
     ]
    }
   ],
   "source": [
    "# 15. How do you get a list value's tuple form? How do you get a tuple value's list form?\n",
    "\n",
    "# We use the tuple() function on a list object to get the tuple form. For example, if we have the following list\n",
    "a = [1, 2, 3, 4, 5]\n",
    "# Calling\n",
    "print(tuple(a)) # will print (1, 2, 3, 4, 5)\n",
    "\n",
    "# We use list() function on a tuple to get the list form. For example if we have the following tuple\n",
    "b = (1, 2, 3, 4, 5)\n",
    "# Calling \n",
    "print(list(b)) # will print [1, 2, 3, 4, 5]\n"
   ]
  },
  {
   "cell_type": "markdown",
   "id": "117943a6",
   "metadata": {},
   "source": [
    "#### 16. Variables that \"contain\" list values are not necessarily lists themselves. Instead, what do they contain?\n",
    "\n",
    "I am not sure I really understand the question, but a variable is a reference to an object. \n",
    "So the variable points to or references an object. We can break that link by pointing the \n",
    "variable to a different object.\n",
    "\n"
   ]
  },
  {
   "cell_type": "code",
   "execution_count": 2,
   "id": "f4933191",
   "metadata": {},
   "outputs": [
    {
     "name": "stdout",
     "output_type": "stream",
     "text": [
      "[[1, 2], [3, 4, 5], 6]\n",
      "[[1, 2], [3, 4, 5], 6]\n",
      "[[1, 2], [3, 4, 5], 6]\n",
      "id a: 2567234279552 id a[0] 2567234278848\n",
      "id b: 2567234279296 id b[0] 2567234278848\n",
      "id c: 2567234279808 id c[0] 2567234272320\n"
     ]
    }
   ],
   "source": [
    "# 17. How do you distinguish between copy.copy() and copy.deepcopy()?\n",
    "from copy import copy, deepcopy\n",
    "\n",
    "a = [[1, 2], [3, 4, 5], 6]\n",
    "b = copy(a)\n",
    "c = deepcopy(a)\n",
    "\n",
    "print(a)\n",
    "print(b)\n",
    "print(c)\n",
    "\n",
    "print('id a:', id(a), 'id a[0]', id(a[0]))\n",
    "print('id b:', id(b), 'id b[0]', id(b[0]))\n",
    "print('id c:', id(c), 'id c[0]', id(c[0]))\n",
    "\n",
    "# There is no difference between copy and deepcopy when it comes to flat lists. In this \n",
    "# case, the two method create a brand new object with a different ID. In our example,\n",
    "# b is totally different list, with a different ID\n",
    "    \n",
    "# However, things change as soon as we have nested lists or objects. While the main\n",
    "# list created is a brand new list for both functions, copy() does not create nested\n",
    "# lists, but point nested lists of the new list to the nested lists of the original \n",
    "# list. In our example, the nested lists of b, b[0] and b[1] links/reference the nested\n",
    "# lists of a, e.g. a[0] and a[1]. That is why they have the same id.\n",
    "# For deepcopy, it's different. The main list as well as the nested lists of c are \n",
    "# different objects, with different IDs from the original list, here a."
   ]
  },
  {
   "cell_type": "code",
   "execution_count": null,
   "id": "aad71c3f",
   "metadata": {},
   "outputs": [],
   "source": []
  }
 ],
 "metadata": {
  "kernelspec": {
   "display_name": "Python 3 (ipykernel)",
   "language": "python",
   "name": "python3"
  },
  "language_info": {
   "codemirror_mode": {
    "name": "ipython",
    "version": 3
   },
   "file_extension": ".py",
   "mimetype": "text/x-python",
   "name": "python",
   "nbconvert_exporter": "python",
   "pygments_lexer": "ipython3",
   "version": "3.8.5"
  }
 },
 "nbformat": 4,
 "nbformat_minor": 5
}
