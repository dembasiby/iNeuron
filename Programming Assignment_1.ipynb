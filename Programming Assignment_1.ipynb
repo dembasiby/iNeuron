{
 "cells": [
  {
   "cell_type": "raw",
   "id": "efef8533",
   "metadata": {},
   "source": [
    "1.\tWrite a Python program to print \"Hello Python\"?\n",
    "2.\tWrite a Python program to do arithmetical operations addition and division.?\n",
    "3.\tWrite a Python program to find the area of a triangle?\n",
    "4.\tWrite a Python program to swap two variables?\n",
    "5.\tWrite a Python program to generate a random number?"
   ]
  },
  {
   "cell_type": "code",
   "execution_count": 1,
   "id": "6125cf25",
   "metadata": {},
   "outputs": [
    {
     "name": "stdout",
     "output_type": "stream",
     "text": [
      "Hello Python\n"
     ]
    }
   ],
   "source": [
    "# 1.Write a Python program to print \"Hello Python\"?\n",
    "print('Hello Python')"
   ]
  },
  {
   "cell_type": "code",
   "execution_count": 3,
   "id": "ad3da182",
   "metadata": {},
   "outputs": [
    {
     "name": "stdout",
     "output_type": "stream",
     "text": [
      "157\n",
      "6210\n"
     ]
    }
   ],
   "source": [
    "# 2.Write a Python program to do arithmetical operations addition and division.?\n",
    "def my_add(x, y):\n",
    "    return x + y\n",
    "\n",
    "def my_mult(x, y):\n",
    "    return x * y\n",
    "\n",
    "print(my_add(67, 90))\n",
    "print(my_mult(135, 46))"
   ]
  },
  {
   "cell_type": "code",
   "execution_count": 4,
   "id": "06c7daa3",
   "metadata": {},
   "outputs": [
    {
     "data": {
      "text/plain": [
       "20.0"
      ]
     },
     "execution_count": 4,
     "metadata": {},
     "output_type": "execute_result"
    }
   ],
   "source": [
    "# 3.Write a Python program to find the area of a triangle?\n",
    "def triangle_area(height, width):\n",
    "    return height * width / 2\n",
    "\n",
    "triangle_area(5,8)"
   ]
  },
  {
   "cell_type": "code",
   "execution_count": 7,
   "id": "78e6f745",
   "metadata": {},
   "outputs": [
    {
     "name": "stdout",
     "output_type": "stream",
     "text": [
      "Before swap, x = 20 and y = 45\n",
      "After swap, x = 45 and y = 20\n"
     ]
    }
   ],
   "source": [
    "# 4.Write a Python program to swap two variables?\n",
    "x = 20\n",
    "y = 45\n",
    "print(f'Before swap, x = {x} and y = {y}')\n",
    "x,y = y,x\n",
    "print(f'After swap, x = {x} and y = {y}')"
   ]
  },
  {
   "cell_type": "code",
   "execution_count": 14,
   "id": "6a806157",
   "metadata": {},
   "outputs": [
    {
     "data": {
      "text/plain": [
       "177647"
      ]
     },
     "execution_count": 14,
     "metadata": {},
     "output_type": "execute_result"
    }
   ],
   "source": [
    "# 5.Write a Python program to generate a random number?\n",
    "import random\n",
    "random.randint(1, 1_000_000)"
   ]
  }
 ],
 "metadata": {
  "kernelspec": {
   "display_name": "Python 3 (ipykernel)",
   "language": "python",
   "name": "python3"
  },
  "language_info": {
   "codemirror_mode": {
    "name": "ipython",
    "version": 3
   },
   "file_extension": ".py",
   "mimetype": "text/x-python",
   "name": "python",
   "nbconvert_exporter": "python",
   "pygments_lexer": "ipython3",
   "version": "3.8.5"
  }
 },
 "nbformat": 4,
 "nbformat_minor": 5
}
