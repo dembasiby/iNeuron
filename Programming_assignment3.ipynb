{
 "cells": [
  {
   "cell_type": "code",
   "execution_count": 4,
   "id": "d3b737f2",
   "metadata": {},
   "outputs": [
    {
     "name": "stdout",
     "output_type": "stream",
     "text": [
      "Negative\n",
      "Zero\n",
      "Positive\n",
      "Invalid number.\n"
     ]
    }
   ],
   "source": [
    "# 1.Write a Python Program to Check if a Number is Positive, Negative or Zero?\n",
    "def check_num_sign(n):\n",
    "    try:\n",
    "        if n > 0:\n",
    "            print('Positive')\n",
    "        elif n == 0:\n",
    "            print('Zero')\n",
    "        else:\n",
    "            print('Negative')\n",
    "    except:\n",
    "        print('Invalid number.')\n",
    "\n",
    "check_num_sign(-456)\n",
    "check_num_sign(0)\n",
    "check_num_sign(456)\n",
    "check_num_sign('some string')"
   ]
  },
  {
   "cell_type": "code",
   "execution_count": 20,
   "id": "28cf67e0",
   "metadata": {},
   "outputs": [
    {
     "name": "stdout",
     "output_type": "stream",
     "text": [
      "45 Odd\n",
      "98 Even\n",
      "347 Odd\n"
     ]
    }
   ],
   "source": [
    "# 2.Write a Python Program to Check if a Number is Odd or Even?\n",
    "def odd_or_even(n):\n",
    "    try:\n",
    "        return 'Even' if n%2==0 else 'Odd'\n",
    "    except:\n",
    "        print('Invalid number.')\n",
    "\n",
    "print(45, odd_or_even(45))\n",
    "print(98, odd_or_even(98))\n",
    "print(347, odd_or_even(347))"
   ]
  },
  {
   "cell_type": "code",
   "execution_count": 18,
   "id": "4275896d",
   "metadata": {},
   "outputs": [
    {
     "name": "stdout",
     "output_type": "stream",
     "text": [
      "2021:  False\n",
      "2004:  True\n",
      "1900:  False\n",
      "1732:  True\n",
      "2000:  True\n",
      "2016:  True\n",
      "Invalid year.\n",
      "2016:  None\n"
     ]
    }
   ],
   "source": [
    "# 3.Write a Python Program to Check Leap Year?\n",
    "\n",
    "def leap_year(year):\n",
    "    \"\"\"\n",
    "    Input: a integer representing a year.\n",
    "    Output: returns True if leap year. False otherwise.\n",
    "    \"\"\"\n",
    "    try:\n",
    "        year = int(year)\n",
    "        is_leap_year = year % 4 == 0\n",
    "        is_leap_year = is_leap_year and (year % 100 != 0)\n",
    "        is_leap_year = is_leap_year or (year % 400 == 0)\n",
    "        return is_leap_year\n",
    "    except:\n",
    "        print('Invalid year.')\n",
    "\n",
    "print('2021: ', leap_year(2021))\n",
    "print('2004: ', leap_year(2004))\n",
    "print('1900: ', leap_year(1900))\n",
    "print('1732: ', leap_year(1732))\n",
    "print('2000: ', leap_year(2000))\n",
    "print('2016: ', leap_year(2016))\n",
    "print('2016: ', leap_year('20hj16'))"
   ]
  },
  {
   "cell_type": "code",
   "execution_count": 62,
   "id": "d336d32f",
   "metadata": {},
   "outputs": [
    {
     "name": "stdout",
     "output_type": "stream",
     "text": [
      "1 False\n",
      "15 False\n",
      "7 True\n",
      "4 False\n",
      "3 True\n",
      "10 False\n",
      "5 True\n",
      "13 True\n"
     ]
    }
   ],
   "source": [
    "# 4.Write a Python Program to Check Prime Number?\n",
    "import math\n",
    "\n",
    "def is_prime(num):\n",
    "    '''\n",
    "    Return True if num is only divisible by 1 and itself. \n",
    "    Otherwise, return False.\n",
    "    A positive even number greater than 2 is not prime\n",
    "    A positive number greater than 5 and divisible by 5\n",
    "    is not prime\n",
    "    '''\n",
    "    if num == 2:                              return True\n",
    "    if num < 2 or (num > 2 and num % 2 == 0)\\\n",
    "       or (num > 5 and num % 5 == 0): return False\n",
    "    \n",
    "    for i in range(3, int(math.sqrt(num))+1, 2):\n",
    "        if num % i == 0: return False\n",
    "        \n",
    "    return True\n",
    "\n",
    "print(1, is_prime(1))\n",
    "print(15, is_prime(15))\n",
    "print(7, is_prime(7))\n",
    "print(4, is_prime(4))\n",
    "print(3, is_prime(3))\n",
    "print(10, is_prime(10))\n",
    "print(5, is_prime(5))\n",
    "print(13, is_prime(13))"
   ]
  },
  {
   "cell_type": "code",
   "execution_count": 67,
   "id": "a225d109",
   "metadata": {},
   "outputs": [
    {
     "name": "stdout",
     "output_type": "stream",
     "text": [
      "[2, 3, 5, 7, 11, 13, 17, 19, 23, 29, 31, 37, 41, 43, 47, 53, 59, 61, 67, 71, 73, 79, 83, 89, 97, 101, 103, 107, 109, 113, 127, 131, 137, 139, 149, 151, 157, 163, 167, 173, 179, 181, 191, 193, 197, 199, 211, 223, 227, 229, 233, 239, 241, 251, 257, 263, 269, 271, 277, 281, 283, 293, 307, 311, 313, 317, 331, 337, 347, 349, 353, 359, 367, 373, 379, 383, 389, 397, 401, 409, 419, 421, 431, 433, 439, 443, 449, 457, 461, 463, 467, 479, 487, 491, 499, 503, 509, 521, 523, 541, 547, 557, 563, 569, 571, 577, 587, 593, 599, 601, 607, 613, 617, 619, 631, 641, 643, 647, 653, 659, 661, 673, 677, 683, 691, 701, 709, 719, 727, 733, 739, 743, 751, 757, 761, 769, 773, 787, 797, 809, 811, 821, 823, 827, 829, 839, 853, 857, 859, 863, 877, 881, 883, 887, 907, 911, 919, 929, 937, 941, 947, 953, 967, 971, 977, 983, 991, 997]\n"
     ]
    }
   ],
   "source": [
    "# 5.Write a Python Program to Print all Prime Numbers in an Interval of 1-1000\n",
    "def allPrimeNumbersIn1To1000Interval():\n",
    "    '''Return all the prime numbers in the interval 1 to 1000.'''\n",
    "    return [ i for i in range(1, 1001) if is_prime(i) ]\n",
    "\n",
    "print(allPrimeNumbersIn1To1000Interval())"
   ]
  }
 ],
 "metadata": {
  "kernelspec": {
   "display_name": "Python 3 (ipykernel)",
   "language": "python",
   "name": "python3"
  },
  "language_info": {
   "codemirror_mode": {
    "name": "ipython",
    "version": 3
   },
   "file_extension": ".py",
   "mimetype": "text/x-python",
   "name": "python",
   "nbconvert_exporter": "python",
   "pygments_lexer": "ipython3",
   "version": "3.8.5"
  }
 },
 "nbformat": 4,
 "nbformat_minor": 5
}
