{
 "cells": [
  {
   "cell_type": "markdown",
   "id": "f8b356ae",
   "metadata": {},
   "source": [
    "1. Why are functions advantageous to have in your programs?\n",
    "\n",
    "The main advantage of a function is to avoid repetition, make the code easy to read and to debug, etc."
   ]
  },
  {
   "cell_type": "markdown",
   "id": "f15b19dc",
   "metadata": {},
   "source": [
    "2. When does the code in a function run: when it&#39;s specified or when it&#39;s called?\n",
    "\n",
    "The code in a function runs when the function is called."
   ]
  },
  {
   "cell_type": "markdown",
   "id": "09001769",
   "metadata": {},
   "source": [
    "3. What statement creates a function?\n",
    "\n",
    "def + function_name + () + :"
   ]
  },
  {
   "cell_type": "markdown",
   "id": "3d9b9380",
   "metadata": {},
   "source": [
    "4. What is the difference between a function and a function call?\n",
    "\n",
    "When we write a function in a program, the function is just an object stored in memory. It's only when that function is called (with parenthesis) that the code inside runs. So a function call execute the code inside the function while the function definition just store the function in memory."
   ]
  },
  {
   "cell_type": "markdown",
   "id": "ddc1d2e0",
   "metadata": {},
   "source": [
    "5. How many global scopes are there in a Python program? How many local scopes?\n",
    "\n",
    "There is only one global scope in a Python program while there can be an infinity of local scopes. A local scope is created for every function created.\n"
   ]
  },
  {
   "cell_type": "markdown",
   "id": "c6568812",
   "metadata": {},
   "source": [
    "6. What happens to variables in a local scope when the function call returns?\n",
    "\n",
    "They are garbage collected as soon as the function returns.\n"
   ]
  },
  {
   "cell_type": "markdown",
   "id": "05fad995",
   "metadata": {},
   "source": [
    "7. What is the concept of a return value? Is it possible to have a return value in an expression?\n",
    "\n",
    "A return value is the value we get after evaluating an expression, calling a function. That value can be used and assigned to a variable. For example, the expression 5+4 evaluates to 9. Here, 9 is the return value of the expression 5+4. So by writing a = 5+4, we are assigning the return value of the expression to a new variable a. In that case, a will hold the value 9. \n",
    "An expression definitely and always return a value. It is also the case of a function."
   ]
  },
  {
   "cell_type": "markdown",
   "id": "04095d70",
   "metadata": {},
   "source": [
    "8. If a function does not have a return statement, what is the return value of a call to that function?\n",
    "\n",
    "A function always returns a value, either explicitely or implicitely. If a function does not have an explicit return statement, it returns None.\n"
   ]
  },
  {
   "cell_type": "markdown",
   "id": "d63c94e7",
   "metadata": {},
   "source": [
    "9. How do you make a function variable refer to the global variable?\n",
    "\n",
    "First, by declaring the variable as global, example: global x. And then using or reassigning the variable inside the function. "
   ]
  },
  {
   "cell_type": "markdown",
   "id": "f0d2ff0e",
   "metadata": {},
   "source": [
    "10. What is the data type of None?\n",
    "\n",
    "\n",
    "None is the single value of NoneType, one of the Singletons group."
   ]
  },
  {
   "cell_type": "markdown",
   "id": "a3ccb060",
   "metadata": {},
   "source": [
    "11. What does the sentence import areallyourpetsnamederic do?\n",
    "\n",
    "It makes the module areallyourpetsnamederic available in the current module."
   ]
  },
  {
   "cell_type": "markdown",
   "id": "6df37e48",
   "metadata": {},
   "source": [
    "12. If you had a bacon() feature in a spam module, what would you call it after importing spam?\n",
    "\n",
    "spam.bacon()\n"
   ]
  },
  {
   "cell_type": "markdown",
   "id": "e040ffcb",
   "metadata": {},
   "source": [
    "13. What can you do to save a programme from crashing if it encounters an error?\n",
    "\n",
    "By using a try/except block where the main code is put in the try block, and the exception handling code in the except block"
   ]
  },
  {
   "cell_type": "markdown",
   "id": "93465bfd",
   "metadata": {},
   "source": [
    "14. What is the purpose of the try clause? What is the purpose of the except clause?\n",
    "\n",
    "The purpose of the try clause is to assure a smooth running of the program as long as there is no issue in the code\n",
    "\n",
    "The purpose of the except clause is to catch all errors but syntaxical and prevent the program from crashing."
   ]
  },
  {
   "cell_type": "code",
   "execution_count": null,
   "id": "7cd684f2",
   "metadata": {},
   "outputs": [],
   "source": []
  }
 ],
 "metadata": {
  "kernelspec": {
   "display_name": "Python 3 (ipykernel)",
   "language": "python",
   "name": "python3"
  },
  "language_info": {
   "codemirror_mode": {
    "name": "ipython",
    "version": 3
   },
   "file_extension": ".py",
   "mimetype": "text/x-python",
   "name": "python",
   "nbconvert_exporter": "python",
   "pygments_lexer": "ipython3",
   "version": "3.8.5"
  }
 },
 "nbformat": 4,
 "nbformat_minor": 5
}
