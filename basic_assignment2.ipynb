{
 "cells": [
  {
   "cell_type": "markdown",
   "id": "8621a9b3",
   "metadata": {},
   "source": [
    "##### 1. In the below elements which of them are values or an expression? eg:- values can be integer or string and expressions will be mathematical operators.\n",
    "\n",
    "\\* = multiplication operator\n",
    "\n",
    "'hello' = value\n",
    "\n",
    "\\-87.8 = value\n",
    "\n",
    "\\- = substraction operator\n",
    "\n",
    "\\/ = division operator\n",
    "\n",
    "\\+ = addition operator\n",
    "\n",
    "6 = value\n"
   ]
  },
  {
   "cell_type": "markdown",
   "id": "7844c57c",
   "metadata": {},
   "source": [
    "##### 2. What is the difference between string and variable?\n",
    "\n",
    "A string one of Python data types. It is a sequence of characters delimited by single of double quotes.\n",
    "\n",
    "A variable is label/name referencing an object. That object can be a string or any other Python data type."
   ]
  },
  {
   "cell_type": "markdown",
   "id": "6a66ae0f",
   "metadata": {},
   "source": [
    "##### 3. Describe three different data types.\n",
    "\n",
    "str (string): a sequence of characters delimited by single of double quotes. Example: 'hello world'\n",
    "\n",
    "int (Integer): an integer represents negative and positive whole numbers. Example: 1\n",
    "\n",
    "list (List): a list is a collection of values in curly brackets. Thos values can be of various types including but not limited to strings, sub lists, integers, floats, complex, custom objects, etc. A list is mutable. It is traversable like any other sequence type. Example: [1, 3.5, 4 + 2j, ['a', 'b'], ('x', 'y')]"
   ]
  },
  {
   "cell_type": "markdown",
   "id": "b08e350d",
   "metadata": {},
   "source": [
    "##### 4. What is an expression made up of? What do all expressions do?\n",
    "\n",
    "An expression is made up of operands or values like 1, 2, 'name of', and operators like +, and, %. All expressions return a value."
   ]
  },
  {
   "cell_type": "markdown",
   "id": "b5cb98c0",
   "metadata": {},
   "source": [
    "##### 5. This assignment statements, like spam = 10. What is the difference between an expression and a statement?\n",
    "\n",
    "An expression returns a value, an assignment does'nt.\n"
   ]
  },
  {
   "cell_type": "markdown",
   "id": "59600c6a",
   "metadata": {},
   "source": [
    "##### 6. After running the following code, what does the variable bacon contain?\n",
    "\n",
    "bacon = 22\n",
    "\n",
    "bacon + 1\n",
    "\n",
    "The variable still references the number 22 because the last line is not a reassignment, but just an expression using the value of the bacon variable."
   ]
  },
  {
   "cell_type": "markdown",
   "id": "b014976a",
   "metadata": {},
   "source": [
    "##### 7. What should the values of the following two terms be?\n",
    "\n",
    "'spam' + 'spamspam' == 'spamspamspam'\n",
    "\n",
    "'spam' * 3 == 'spamspamspam'"
   ]
  },
  {
   "cell_type": "markdown",
   "id": "eb55d9fd",
   "metadata": {},
   "source": [
    "##### 8. Why is eggs a valid variable name while 100 is invalid?\n",
    "\n",
    "The variable name eggs contains only letters. 100 is not valid because it starts with a number. A variable name can contain numbers, but can not start with a number.\n"
   ]
  },
  {
   "cell_type": "markdown",
   "id": "bf18a19e",
   "metadata": {},
   "source": [
    "##### 9. What three functions can be used to get the integer, floating-point number, or string version of a value?\n",
    "\n",
    "integer function = int()\n",
    "\n",
    "floating-point number function = float()\n",
    "\n",
    "string function = str()"
   ]
  },
  {
   "cell_type": "markdown",
   "id": "c70a7c8c",
   "metadata": {},
   "source": [
    "##### 10. Why does this expression cause an error? How can you fix it?\n",
    "\n",
    "'I have eaten ' + 99 + ' burritos.'\n",
    "\n",
    "solution 1: 'I have eaten ' + str(99) + ' burritos.'\n",
    "\n",
    "solution 2: f'I have eaten {99} burritos.'\n",
    "\n",
    "solution 3: 'I have eaten {0} burritos.'.format(99)"
   ]
  },
  {
   "cell_type": "code",
   "execution_count": null,
   "id": "df8f841e",
   "metadata": {},
   "outputs": [],
   "source": []
  }
 ],
 "metadata": {
  "kernelspec": {
   "display_name": "Python 3 (ipykernel)",
   "language": "python",
   "name": "python3"
  },
  "language_info": {
   "codemirror_mode": {
    "name": "ipython",
    "version": 3
   },
   "file_extension": ".py",
   "mimetype": "text/x-python",
   "name": "python",
   "nbconvert_exporter": "python",
   "pygments_lexer": "ipython3",
   "version": "3.8.5"
  }
 },
 "nbformat": 4,
 "nbformat_minor": 5
}
