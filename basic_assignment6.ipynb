{
 "cells": [
  {
   "cell_type": "markdown",
   "id": "036a993c",
   "metadata": {},
   "source": [
    "1. What are escape characters, and how do you use them?\n",
    "\n",
    "Escape characters are backslash followed by any raw (sometimes illegal) character we want to insert in a Python string. \\s, \\n, \\t, \\' are some example of escape characters respectively for space, new line, Tab, and single quote.\n",
    "Escape characters are used a lot in regular expressions. For example, to match any digit, we can use \\d. We can also use \\D to match any non digit character. In a file path, we can escape backslashes with \\\\. We can also escape single quotes in a string surrounded by single quotes with \\' like in the following example: 'Mike\\'s book'.\n"
   ]
  },
  {
   "cell_type": "code",
   "execution_count": null,
   "id": "6482cb24",
   "metadata": {},
   "outputs": [],
   "source": [
    "# 2. What do the escape characters n and t stand for?\n",
    "\n",
    "# \\n stands for 'New line character'\n",
    "# \\t stands for 'Tab'"
   ]
  },
  {
   "cell_type": "code",
   "execution_count": null,
   "id": "ebed13aa",
   "metadata": {},
   "outputs": [],
   "source": [
    "#3. What is the way to include backslash characters in a string?\n",
    "\n",
    "# Use the \\ character followed the character we want to include, like \n",
    "# a tab with \\t or the character we want to escape like \\' if we want \n",
    "# to escape a single quote."
   ]
  },
  {
   "cell_type": "code",
   "execution_count": null,
   "id": "ab79a40e",
   "metadata": {},
   "outputs": [],
   "source": [
    "# 4. The string \"Howl's Moving Castle\" is a correct value. \n",
    "# Why isn't the single quote character in the word Howl's not escaped a problem?\n",
    "\n",
    "# Because the string is surrounded by double quotes. In this case, no need to \n",
    "# escape single quotes."
   ]
  },
  {
   "cell_type": "code",
   "execution_count": 5,
   "id": "7c284de1",
   "metadata": {},
   "outputs": [
    {
     "data": {
      "text/plain": [
       "\"This is how do you write \\na string of newlines if you\\ndon't want to use the n characther\""
      ]
     },
     "execution_count": 5,
     "metadata": {},
     "output_type": "execute_result"
    }
   ],
   "source": [
    "# 5. How do you write a string of newlines if you don't want to use the n character?\n",
    "\n",
    "# We can use a multiline string with the triple quotes. Example\n",
    "\"\"\"This is how do you write \n",
    "a string of newlines if you\n",
    "don't want to use the n characther\"\"\""
   ]
  },
  {
   "cell_type": "code",
   "execution_count": 3,
   "id": "a1280eaf",
   "metadata": {},
   "outputs": [
    {
     "name": "stdout",
     "output_type": "stream",
     "text": [
      "True\n",
      "True\n",
      "True\n",
      "True\n"
     ]
    }
   ],
   "source": [
    "# 6. What are the values of the given expressions?\n",
    "print('Hello, world!'[1]   == 'e')\n",
    "print('Hello, world!'[0:5] == 'Hello')\n",
    "print('Hello, world!'[:5]  == 'Hello')\n",
    "print('Hello, world!'[3:]  == 'lo, world!')"
   ]
  },
  {
   "cell_type": "code",
   "execution_count": 2,
   "id": "b54805f9",
   "metadata": {},
   "outputs": [
    {
     "name": "stdout",
     "output_type": "stream",
     "text": [
      "True\n",
      "True\n",
      "True\n"
     ]
    }
   ],
   "source": [
    "#7. What are the values of the following expressions?\n",
    "print('Hello'.upper()           == 'HELLO')\n",
    "print('Hello'.upper().isupper() ==  True)\n",
    "print('Hello'.upper().lower()   == 'hello')"
   ]
  },
  {
   "cell_type": "code",
   "execution_count": 4,
   "id": "ac701470",
   "metadata": {},
   "outputs": [
    {
     "name": "stdout",
     "output_type": "stream",
     "text": [
      "True\n",
      "True\n"
     ]
    }
   ],
   "source": [
    "# 8. What are the values of the following expressions?\n",
    "print('Remember, remember, the fifth of July.'.split() == ['Remember,', 'remember,', 'the', 'fifth', 'of', 'July.']\n",
    ")\n",
    "print('-'.join('There can only one.'.split()) == 'There-can-only-one.')"
   ]
  },
  {
   "cell_type": "code",
   "execution_count": null,
   "id": "f57a3bc0",
   "metadata": {},
   "outputs": [],
   "source": [
    "# 9. What are the methods for right-justifying, left-justifying, and centering a string?\n",
    "\n",
    "# right-justify method = rjust.\n",
    "# left-justify method = ljust.\n",
    "# method for centering a string = center"
   ]
  },
  {
   "cell_type": "code",
   "execution_count": null,
   "id": "994f1a36",
   "metadata": {},
   "outputs": [],
   "source": [
    "# 10. What is the best way to remove whitespace characters from the start or end?\n",
    "\n",
    "# We can use strip() to remove white characters from the start and end of the string.\n",
    "# We can use lstrip() to remove characters from the start\n",
    "# We can use rstrip() to remove characters from the end"
   ]
  }
 ],
 "metadata": {
  "kernelspec": {
   "display_name": "Python 3 (ipykernel)",
   "language": "python",
   "name": "python3"
  },
  "language_info": {
   "codemirror_mode": {
    "name": "ipython",
    "version": 3
   },
   "file_extension": ".py",
   "mimetype": "text/x-python",
   "name": "python",
   "nbconvert_exporter": "python",
   "pygments_lexer": "ipython3",
   "version": "3.8.5"
  }
 },
 "nbformat": 4,
 "nbformat_minor": 5
}
