{
 "cells": [
  {
   "cell_type": "code",
   "execution_count": 1,
   "id": "5c9ef81f",
   "metadata": {},
   "outputs": [],
   "source": [
    "# 1. What does an empty dictionary's code look like?\n",
    "\n",
    "# It's an empty pair of brackets\n",
    "a = {}"
   ]
  },
  {
   "cell_type": "code",
   "execution_count": 2,
   "id": "0d84e67e",
   "metadata": {},
   "outputs": [],
   "source": [
    "# 2. What is the value of a dictionary value with the key 'foo' and the value 42?\n",
    "b = {'foo': 42}\n",
    "# 42 is the value, 'foo' is the key"
   ]
  },
  {
   "cell_type": "markdown",
   "id": "03d65ae1",
   "metadata": {},
   "source": [
    "#### 3. What is the most significant distinction between a dictionary and a list?\n",
    "\n",
    "* A dictionary is an object that contains key/value pair elements. A list is a list of elements.\n",
    "* A list's order is fix, but there is no order in a dictionary.\n",
    "* We access a list by an index, we access a dictionary by a key.\n",
    "* "
   ]
  },
  {
   "cell_type": "code",
   "execution_count": null,
   "id": "21f739ce",
   "metadata": {},
   "outputs": [],
   "source": [
    "# 4. What happens if you try to access spam['foo'] if spam is {'bar': 100}?\n",
    "\n",
    "# We get a KeyError"
   ]
  },
  {
   "cell_type": "code",
   "execution_count": null,
   "id": "4406a5c2",
   "metadata": {},
   "outputs": [],
   "source": [
    "# 5. If a dictionary is stored in spam, what is the difference between \n",
    "# the expressions 'cat' in spam and 'cat' in spam.keys()?\n",
    "\n",
    "# There is no difference. Both with return True if cat is in spam, False otherwise\n"
   ]
  },
  {
   "cell_type": "code",
   "execution_count": null,
   "id": "6de788ef",
   "metadata": {},
   "outputs": [],
   "source": [
    "# 6. If a dictionary is stored in spam, what is the difference between \n",
    "# the expressions 'cat' in spam and 'cat' in spam.values()?\n",
    "\n",
    "# 'cat' in spam will look for a key named 'cat' in spam, while \n",
    "# 'cat' in spam.values() will look for a value named 'cat' in spam\n",
    "\n"
   ]
  },
  {
   "cell_type": "code",
   "execution_count": 7,
   "id": "28679a79",
   "metadata": {},
   "outputs": [],
   "source": [
    "# 7. What is a shortcut for the following code?\n",
    "\n",
    "spam = {}\n",
    "# if 'color' not in spam:\n",
    "# spam['color'] = 'black'\n",
    "spam['color'] = spam.get('color', 'black') # spam must be initialized before"
   ]
  },
  {
   "cell_type": "code",
   "execution_count": 10,
   "id": "0974d730",
   "metadata": {},
   "outputs": [
    {
     "name": "stdout",
     "output_type": "stream",
     "text": [
      "{'color': 'black'}\n"
     ]
    }
   ],
   "source": [
    "# 8. How do you \"pretty print\" dictionary values using which module and function?\n",
    "import pprint\n",
    "p = pprint.PrettyPrinter()\n",
    "p.pprint(spam)"
   ]
  },
  {
   "cell_type": "code",
   "execution_count": null,
   "id": "dd12948d",
   "metadata": {},
   "outputs": [],
   "source": []
  }
 ],
 "metadata": {
  "kernelspec": {
   "display_name": "Python 3 (ipykernel)",
   "language": "python",
   "name": "python3"
  },
  "language_info": {
   "codemirror_mode": {
    "name": "ipython",
    "version": 3
   },
   "file_extension": ".py",
   "mimetype": "text/x-python",
   "name": "python",
   "nbconvert_exporter": "python",
   "pygments_lexer": "ipython3",
   "version": "3.8.5"
  }
 },
 "nbformat": 4,
 "nbformat_minor": 5
}
