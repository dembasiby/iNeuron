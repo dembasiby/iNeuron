{
 "cells": [
  {
   "cell_type": "code",
   "execution_count": 41,
   "id": "9841042f",
   "metadata": {},
   "outputs": [
    {
     "name": "stdout",
     "output_type": "stream",
     "text": [
      "...Invalid number.\n",
      "None\n",
      "...Invalid number.\n",
      "None\n",
      "26.2218562\n"
     ]
    }
   ],
   "source": [
    "# 1.Write a Python program to conert kilometers to miles?\n",
    "\n",
    "def kilometers_to_miles(km):\n",
    "    MILES = 0.621371\n",
    "    \n",
    "    try:\n",
    "        return km * MILES\n",
    "    except:\n",
    "        print('...Invalid number.')\n",
    "        \n",
    "print(kilometers_to_miles({2, 3, 4}))\n",
    "print(kilometers_to_miles('seouuoufso'))\n",
    "print(kilometers_to_miles(42.2))\n"
   ]
  },
  {
   "cell_type": "code",
   "execution_count": 42,
   "id": "dbd44282",
   "metadata": {},
   "outputs": [],
   "source": [
    "# 2.Write a Python program to convert Celsius to Fahrenheit?\n",
    "def celsius_to_fahrenheit(c):\n",
    "    # Formula: (0 °C × 9/5) + 32 = 32 °F\n",
    "    try:\n",
    "        return (c * 9 / 5) + 32\n",
    "    except:\n",
    "        print('Invalid number.')"
   ]
  },
  {
   "cell_type": "code",
   "execution_count": 43,
   "id": "3e0c9df6",
   "metadata": {},
   "outputs": [
    {
     "name": "stdout",
     "output_type": "stream",
     "text": [
      "   December 2021\n",
      "Mo Tu We Th Fr Sa Su\n",
      "       1  2  3  4  5\n",
      " 6  7  8  9 10 11 12\n",
      "13 14 15 16 17 18 19\n",
      "20 21 22 23 24 25 26\n",
      "27 28 29 30 31\n",
      "\n"
     ]
    }
   ],
   "source": [
    "# 3.Write a Python program to display calendar?\n",
    "import calendar\n",
    "\n",
    "def display_calendar(year, month):\n",
    "    try:\n",
    "        print(calendar.month(year, month))\n",
    "    except:\n",
    "        print('Invalid, month/year')\n",
    "\n",
    "display_calendar(2021,12)"
   ]
  },
  {
   "cell_type": "code",
   "execution_count": 59,
   "id": "eb0c84b2",
   "metadata": {},
   "outputs": [
    {
     "name": "stdout",
     "output_type": "stream",
     "text": [
      "(-2.0, 3.0)\n",
      "(-2.0, -2.0)\n",
      "(0.1, -1.0)\n"
     ]
    }
   ],
   "source": [
    "# 4.Write a Python program to solve quadratic equation?\n",
    "import math\n",
    "\n",
    "def quadratic_equation(a, b, c):\n",
    "    # f(x) = ax2 + bx + c == 0\n",
    "    # x = (-b - math.sqrt(b**2 - (4*a*c)) or (-b + math.sqrt(b**2 - (4*a*c))\n",
    "    x1 = (-b - math.sqrt( (b**2) - (4*a*c) )) / (2*a)\n",
    "    x2 = (-b + math.sqrt( (b**2) - (4*a*c) )) / (2*a)\n",
    "    return (x1, x2)\n",
    "\n",
    "print(quadratic_equation(1, -1, -6))\n",
    "print(quadratic_equation(1, 4, 4))\n",
    "print(quadratic_equation(-10, -9, 1))"
   ]
  },
  {
   "cell_type": "code",
   "execution_count": 60,
   "id": "61c32580",
   "metadata": {},
   "outputs": [
    {
     "name": "stdout",
     "output_type": "stream",
     "text": [
      "x is variable x and y is variable y\n",
      "x is variable y and y is variable x\n"
     ]
    }
   ],
   "source": [
    "# 5.Write a Python program to swap two variables without temp variable?\n",
    "\n",
    "x = 'variable x'\n",
    "y = 'variable y'\n",
    "print(f'x is {x} and y is {y}')\n",
    "x,y = y,x\n",
    "print(f'x is {x} and y is {y}')"
   ]
  },
  {
   "cell_type": "code",
   "execution_count": null,
   "id": "e3044a9b",
   "metadata": {},
   "outputs": [],
   "source": []
  }
 ],
 "metadata": {
  "kernelspec": {
   "display_name": "Python 3 (ipykernel)",
   "language": "python",
   "name": "python3"
  },
  "language_info": {
   "codemirror_mode": {
    "name": "ipython",
    "version": 3
   },
   "file_extension": ".py",
   "mimetype": "text/x-python",
   "name": "python",
   "nbconvert_exporter": "python",
   "pygments_lexer": "ipython3",
   "version": "3.8.5"
  }
 },
 "nbformat": 4,
 "nbformat_minor": 5
}
